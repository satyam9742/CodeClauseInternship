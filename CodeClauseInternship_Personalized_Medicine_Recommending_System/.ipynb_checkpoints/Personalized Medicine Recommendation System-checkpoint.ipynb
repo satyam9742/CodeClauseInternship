{
 "cells": [
  {
   "cell_type": "code",
   "execution_count": 1,
   "metadata": {
    "_cell_guid": "b1076dfc-b9ad-4769-8c92-a6c4dae69d19",
    "_uuid": "8f2839f25d086af736a60e9eeb907d3b93b6e0e5",
    "execution": {
     "iopub.execute_input": "2022-05-26T15:21:29.887653Z",
     "iopub.status.busy": "2022-05-26T15:21:29.887162Z",
     "iopub.status.idle": "2022-05-26T15:21:29.923894Z",
     "shell.execute_reply": "2022-05-26T15:21:29.923084Z",
     "shell.execute_reply.started": "2022-05-26T15:21:29.887562Z"
    }
   },
   "outputs": [],
   "source": [
    "import numpy as np \n",
    "import pandas as pd \n",
    "import os"
   ]
  },
  {
   "cell_type": "code",
   "execution_count": 2,
   "metadata": {
    "execution": {
     "iopub.execute_input": "2022-05-26T15:22:10.370195Z",
     "iopub.status.busy": "2022-05-26T15:22:10.369768Z",
     "iopub.status.idle": "2022-05-26T15:22:10.423042Z",
     "shell.execute_reply": "2022-05-26T15:22:10.422102Z",
     "shell.execute_reply.started": "2022-05-26T15:22:10.370167Z"
    }
   },
   "outputs": [],
   "source": [
    "medicines = pd.read_csv('C://Users//satya//Documents//CodeClause//Personalized_Medicine_Recommending_System//Datasets//medicine.csv')"
   ]
  },
  {
   "cell_type": "code",
   "execution_count": 3,
   "metadata": {
    "execution": {
     "iopub.execute_input": "2022-05-26T15:22:17.329081Z",
     "iopub.status.busy": "2022-05-26T15:22:17.328665Z",
     "iopub.status.idle": "2022-05-26T15:22:17.352018Z",
     "shell.execute_reply": "2022-05-26T15:22:17.350989Z",
     "shell.execute_reply.started": "2022-05-26T15:22:17.329047Z"
    }
   },
   "outputs": [
    {
     "data": {
      "text/html": [
       "<div>\n",
       "<style scoped>\n",
       "    .dataframe tbody tr th:only-of-type {\n",
       "        vertical-align: middle;\n",
       "    }\n",
       "\n",
       "    .dataframe tbody tr th {\n",
       "        vertical-align: top;\n",
       "    }\n",
       "\n",
       "    .dataframe thead th {\n",
       "        text-align: right;\n",
       "    }\n",
       "</style>\n",
       "<table border=\"1\" class=\"dataframe\">\n",
       "  <thead>\n",
       "    <tr style=\"text-align: right;\">\n",
       "      <th></th>\n",
       "      <th>index</th>\n",
       "      <th>Drug_Name</th>\n",
       "      <th>Reason</th>\n",
       "      <th>Description</th>\n",
       "    </tr>\n",
       "  </thead>\n",
       "  <tbody>\n",
       "    <tr>\n",
       "      <th>0</th>\n",
       "      <td>1</td>\n",
       "      <td>A CN Gel(Topical) 20gmA CN Soap 75gm</td>\n",
       "      <td>Acne</td>\n",
       "      <td>Mild to moderate acne (spots)</td>\n",
       "    </tr>\n",
       "    <tr>\n",
       "      <th>1</th>\n",
       "      <td>2</td>\n",
       "      <td>A Ret 0.05% Gel 20gmA Ret 0.1% Gel 20gmA Ret 0...</td>\n",
       "      <td>Acne</td>\n",
       "      <td>A RET 0.025% is a prescription medicine that i...</td>\n",
       "    </tr>\n",
       "    <tr>\n",
       "      <th>2</th>\n",
       "      <td>3</td>\n",
       "      <td>ACGEL CL NANO Gel 15gm</td>\n",
       "      <td>Acne</td>\n",
       "      <td>It is used to treat acne vulgaris in people 12...</td>\n",
       "    </tr>\n",
       "    <tr>\n",
       "      <th>3</th>\n",
       "      <td>4</td>\n",
       "      <td>ACGEL NANO Gel 15gm</td>\n",
       "      <td>Acne</td>\n",
       "      <td>It is used to treat acne vulgaris in people 12...</td>\n",
       "    </tr>\n",
       "    <tr>\n",
       "      <th>4</th>\n",
       "      <td>5</td>\n",
       "      <td>Acleen 1% Lotion 25ml</td>\n",
       "      <td>Acne</td>\n",
       "      <td>treat the most severe form of acne (nodular ac...</td>\n",
       "    </tr>\n",
       "  </tbody>\n",
       "</table>\n",
       "</div>"
      ],
      "text/plain": [
       "   index                                          Drug_Name Reason  \\\n",
       "0      1               A CN Gel(Topical) 20gmA CN Soap 75gm   Acne   \n",
       "1      2  A Ret 0.05% Gel 20gmA Ret 0.1% Gel 20gmA Ret 0...   Acne   \n",
       "2      3                             ACGEL CL NANO Gel 15gm   Acne   \n",
       "3      4                                ACGEL NANO Gel 15gm   Acne   \n",
       "4      5                              Acleen 1% Lotion 25ml   Acne   \n",
       "\n",
       "                                         Description  \n",
       "0                      Mild to moderate acne (spots)  \n",
       "1  A RET 0.025% is a prescription medicine that i...  \n",
       "2  It is used to treat acne vulgaris in people 12...  \n",
       "3  It is used to treat acne vulgaris in people 12...  \n",
       "4  treat the most severe form of acne (nodular ac...  "
      ]
     },
     "execution_count": 3,
     "metadata": {},
     "output_type": "execute_result"
    }
   ],
   "source": [
    "medicines.head()"
   ]
  },
  {
   "cell_type": "code",
   "execution_count": 4,
   "metadata": {
    "execution": {
     "iopub.execute_input": "2022-05-26T15:22:24.310198Z",
     "iopub.status.busy": "2022-05-26T15:22:24.309304Z",
     "iopub.status.idle": "2022-05-26T15:22:24.316390Z",
     "shell.execute_reply": "2022-05-26T15:22:24.315341Z",
     "shell.execute_reply.started": "2022-05-26T15:22:24.310152Z"
    }
   },
   "outputs": [
    {
     "data": {
      "text/plain": [
       "(9720, 4)"
      ]
     },
     "execution_count": 4,
     "metadata": {},
     "output_type": "execute_result"
    }
   ],
   "source": [
    "medicines.shape"
   ]
  },
  {
   "cell_type": "code",
   "execution_count": 5,
   "metadata": {
    "execution": {
     "iopub.execute_input": "2022-05-26T15:22:30.317290Z",
     "iopub.status.busy": "2022-05-26T15:22:30.316922Z",
     "iopub.status.idle": "2022-05-26T15:22:30.330892Z",
     "shell.execute_reply": "2022-05-26T15:22:30.329902Z",
     "shell.execute_reply.started": "2022-05-26T15:22:30.317261Z"
    }
   },
   "outputs": [
    {
     "data": {
      "text/plain": [
       "index          0\n",
       "Drug_Name      0\n",
       "Reason         0\n",
       "Description    0\n",
       "dtype: int64"
      ]
     },
     "execution_count": 5,
     "metadata": {},
     "output_type": "execute_result"
    }
   ],
   "source": [
    "medicines.isnull().sum()"
   ]
  },
  {
   "cell_type": "code",
   "execution_count": 6,
   "metadata": {
    "execution": {
     "iopub.execute_input": "2022-05-26T15:22:36.541860Z",
     "iopub.status.busy": "2022-05-26T15:22:36.541469Z",
     "iopub.status.idle": "2022-05-26T15:22:36.558756Z",
     "shell.execute_reply": "2022-05-26T15:22:36.557372Z",
     "shell.execute_reply.started": "2022-05-26T15:22:36.541830Z"
    }
   },
   "outputs": [],
   "source": [
    "medicines.dropna(inplace=True)"
   ]
  },
  {
   "cell_type": "code",
   "execution_count": 7,
   "metadata": {
    "execution": {
     "iopub.execute_input": "2022-05-26T15:27:45.781805Z",
     "iopub.status.busy": "2022-05-26T15:27:45.781384Z",
     "iopub.status.idle": "2022-05-26T15:27:45.801395Z",
     "shell.execute_reply": "2022-05-26T15:27:45.800506Z",
     "shell.execute_reply.started": "2022-05-26T15:27:45.781772Z"
    }
   },
   "outputs": [
    {
     "data": {
      "text/plain": [
       "0"
      ]
     },
     "execution_count": 7,
     "metadata": {},
     "output_type": "execute_result"
    }
   ],
   "source": [
    "medicines.duplicated().sum()"
   ]
  },
  {
   "cell_type": "code",
   "execution_count": 8,
   "metadata": {
    "execution": {
     "iopub.execute_input": "2022-05-26T15:27:52.263507Z",
     "iopub.status.busy": "2022-05-26T15:27:52.263107Z",
     "iopub.status.idle": "2022-05-26T15:27:52.271658Z",
     "shell.execute_reply": "2022-05-26T15:27:52.270787Z",
     "shell.execute_reply.started": "2022-05-26T15:27:52.263462Z"
    }
   },
   "outputs": [
    {
     "data": {
      "text/plain": [
       "0                           Mild to moderate acne (spots)\n",
       "1       A RET 0.025% is a prescription medicine that i...\n",
       "2       It is used to treat acne vulgaris in people 12...\n",
       "3       It is used to treat acne vulgaris in people 12...\n",
       "4       treat the most severe form of acne (nodular ac...\n",
       "                              ...                        \n",
       "9715                              used for treating warts\n",
       "9716                        used to soften the skin cells\n",
       "9717                                       used for scars\n",
       "9718                                      used for wounds\n",
       "9719    used to treat and remove raised warts (usually...\n",
       "Name: Description, Length: 9720, dtype: object"
      ]
     },
     "execution_count": 8,
     "metadata": {},
     "output_type": "execute_result"
    }
   ],
   "source": [
    "medicines['Description']"
   ]
  },
  {
   "cell_type": "code",
   "execution_count": 9,
   "metadata": {
    "execution": {
     "iopub.execute_input": "2022-05-26T15:27:59.454448Z",
     "iopub.status.busy": "2022-05-26T15:27:59.453961Z",
     "iopub.status.idle": "2022-05-26T15:27:59.484759Z",
     "shell.execute_reply": "2022-05-26T15:27:59.483653Z",
     "shell.execute_reply.started": "2022-05-26T15:27:59.454413Z"
    }
   },
   "outputs": [
    {
     "data": {
      "text/plain": [
       "0                     [Mild, to, moderate, acne, (spots)]\n",
       "1       [A, RET, 0.025%, is, a, prescription, medicine...\n",
       "2       [It, is, used, to, treat, acne, vulgaris, in, ...\n",
       "3       [It, is, used, to, treat, acne, vulgaris, in, ...\n",
       "4       [treat, the, most, severe, form, of, acne, (no...\n",
       "                              ...                        \n",
       "9715                         [used, for, treating, warts]\n",
       "9716                 [used, to, soften, the, skin, cells]\n",
       "9717                                   [used, for, scars]\n",
       "9718                                  [used, for, wounds]\n",
       "9719    [used, to, treat, and, remove, raised, warts, ...\n",
       "Name: Description, Length: 9720, dtype: object"
      ]
     },
     "execution_count": 9,
     "metadata": {},
     "output_type": "execute_result"
    }
   ],
   "source": [
    "medicines['Description'].apply(lambda x:x.split())"
   ]
  },
  {
   "cell_type": "code",
   "execution_count": 10,
   "metadata": {
    "execution": {
     "iopub.execute_input": "2022-05-26T15:28:05.937681Z",
     "iopub.status.busy": "2022-05-26T15:28:05.937209Z",
     "iopub.status.idle": "2022-05-26T15:28:05.968340Z",
     "shell.execute_reply": "2022-05-26T15:28:05.967586Z",
     "shell.execute_reply.started": "2022-05-26T15:28:05.937648Z"
    }
   },
   "outputs": [],
   "source": [
    "medicines['Reason'] = medicines['Reason'].apply(lambda x:x.split())\n",
    "medicines['Description'] = medicines['Description'].apply(lambda x:x.split())"
   ]
  },
  {
   "cell_type": "code",
   "execution_count": 11,
   "metadata": {
    "execution": {
     "iopub.execute_input": "2022-05-26T15:28:11.782091Z",
     "iopub.status.busy": "2022-05-26T15:28:11.781739Z",
     "iopub.status.idle": "2022-05-26T15:28:11.919044Z",
     "shell.execute_reply": "2022-05-26T15:28:11.918271Z",
     "shell.execute_reply.started": "2022-05-26T15:28:11.782064Z"
    }
   },
   "outputs": [],
   "source": [
    "medicines['Description'] = medicines['Description'].apply(lambda x:[i.replace(\" \",\"\") for i in x])"
   ]
  },
  {
   "cell_type": "code",
   "execution_count": 12,
   "metadata": {
    "execution": {
     "iopub.execute_input": "2022-05-26T15:28:17.590729Z",
     "iopub.status.busy": "2022-05-26T15:28:17.590328Z",
     "iopub.status.idle": "2022-05-26T15:28:17.626568Z",
     "shell.execute_reply": "2022-05-26T15:28:17.625869Z",
     "shell.execute_reply.started": "2022-05-26T15:28:17.590696Z"
    }
   },
   "outputs": [],
   "source": [
    "medicines['Description'] = medicines['Description'].apply(lambda x:[i.replace(\" \",\"\") for i in x])"
   ]
  },
  {
   "cell_type": "code",
   "execution_count": 13,
   "metadata": {
    "execution": {
     "iopub.execute_input": "2022-05-26T15:28:23.480397Z",
     "iopub.status.busy": "2022-05-26T15:28:23.479888Z",
     "iopub.status.idle": "2022-05-26T15:28:23.492088Z",
     "shell.execute_reply": "2022-05-26T15:28:23.491297Z",
     "shell.execute_reply.started": "2022-05-26T15:28:23.480365Z"
    }
   },
   "outputs": [],
   "source": [
    "medicines['tags'] = medicines['Description'] + medicines['Reason'] "
   ]
  },
  {
   "cell_type": "code",
   "execution_count": 14,
   "metadata": {
    "execution": {
     "iopub.execute_input": "2022-05-26T15:28:29.352803Z",
     "iopub.status.busy": "2022-05-26T15:28:29.352375Z",
     "iopub.status.idle": "2022-05-26T15:28:29.360610Z",
     "shell.execute_reply": "2022-05-26T15:28:29.359860Z",
     "shell.execute_reply.started": "2022-05-26T15:28:29.352771Z"
    }
   },
   "outputs": [],
   "source": [
    "new_df = medicines[['index','Drug_Name','tags']]"
   ]
  },
  {
   "cell_type": "code",
   "execution_count": 15,
   "metadata": {
    "execution": {
     "iopub.execute_input": "2022-05-26T15:28:34.878349Z",
     "iopub.status.busy": "2022-05-26T15:28:34.877949Z",
     "iopub.status.idle": "2022-05-26T15:28:34.895458Z",
     "shell.execute_reply": "2022-05-26T15:28:34.894661Z",
     "shell.execute_reply.started": "2022-05-26T15:28:34.878317Z"
    }
   },
   "outputs": [
    {
     "data": {
      "text/html": [
       "<div>\n",
       "<style scoped>\n",
       "    .dataframe tbody tr th:only-of-type {\n",
       "        vertical-align: middle;\n",
       "    }\n",
       "\n",
       "    .dataframe tbody tr th {\n",
       "        vertical-align: top;\n",
       "    }\n",
       "\n",
       "    .dataframe thead th {\n",
       "        text-align: right;\n",
       "    }\n",
       "</style>\n",
       "<table border=\"1\" class=\"dataframe\">\n",
       "  <thead>\n",
       "    <tr style=\"text-align: right;\">\n",
       "      <th></th>\n",
       "      <th>index</th>\n",
       "      <th>Drug_Name</th>\n",
       "      <th>tags</th>\n",
       "    </tr>\n",
       "  </thead>\n",
       "  <tbody>\n",
       "    <tr>\n",
       "      <th>0</th>\n",
       "      <td>1</td>\n",
       "      <td>A CN Gel(Topical) 20gmA CN Soap 75gm</td>\n",
       "      <td>[Mild, to, moderate, acne, (spots), Acne]</td>\n",
       "    </tr>\n",
       "    <tr>\n",
       "      <th>1</th>\n",
       "      <td>2</td>\n",
       "      <td>A Ret 0.05% Gel 20gmA Ret 0.1% Gel 20gmA Ret 0...</td>\n",
       "      <td>[A, RET, 0.025%, is, a, prescription, medicine...</td>\n",
       "    </tr>\n",
       "    <tr>\n",
       "      <th>2</th>\n",
       "      <td>3</td>\n",
       "      <td>ACGEL CL NANO Gel 15gm</td>\n",
       "      <td>[It, is, used, to, treat, acne, vulgaris, in, ...</td>\n",
       "    </tr>\n",
       "    <tr>\n",
       "      <th>3</th>\n",
       "      <td>4</td>\n",
       "      <td>ACGEL NANO Gel 15gm</td>\n",
       "      <td>[It, is, used, to, treat, acne, vulgaris, in, ...</td>\n",
       "    </tr>\n",
       "    <tr>\n",
       "      <th>4</th>\n",
       "      <td>5</td>\n",
       "      <td>Acleen 1% Lotion 25ml</td>\n",
       "      <td>[treat, the, most, severe, form, of, acne, (no...</td>\n",
       "    </tr>\n",
       "    <tr>\n",
       "      <th>...</th>\n",
       "      <td>...</td>\n",
       "      <td>...</td>\n",
       "      <td>...</td>\n",
       "    </tr>\n",
       "    <tr>\n",
       "      <th>9715</th>\n",
       "      <td>9716</td>\n",
       "      <td>T Muce Ointment 5gm</td>\n",
       "      <td>[used, for, treating, warts, Wound]</td>\n",
       "    </tr>\n",
       "    <tr>\n",
       "      <th>9716</th>\n",
       "      <td>9717</td>\n",
       "      <td>Wokadine 10% Solution 100mlWokadine Solution 5...</td>\n",
       "      <td>[used, to, soften, the, skin, cells, Wound]</td>\n",
       "    </tr>\n",
       "    <tr>\n",
       "      <th>9717</th>\n",
       "      <td>9718</td>\n",
       "      <td>Wokadine M Onit 10gm</td>\n",
       "      <td>[used, for, scars, Wound]</td>\n",
       "    </tr>\n",
       "    <tr>\n",
       "      <th>9718</th>\n",
       "      <td>9719</td>\n",
       "      <td>Wound Fix Solution 100ml</td>\n",
       "      <td>[used, for, wounds, Wound]</td>\n",
       "    </tr>\n",
       "    <tr>\n",
       "      <th>9719</th>\n",
       "      <td>9720</td>\n",
       "      <td>Wounsol Ointment 15gm</td>\n",
       "      <td>[used, to, treat, and, remove, raised, warts, ...</td>\n",
       "    </tr>\n",
       "  </tbody>\n",
       "</table>\n",
       "<p>9720 rows × 3 columns</p>\n",
       "</div>"
      ],
      "text/plain": [
       "      index                                          Drug_Name  \\\n",
       "0         1               A CN Gel(Topical) 20gmA CN Soap 75gm   \n",
       "1         2  A Ret 0.05% Gel 20gmA Ret 0.1% Gel 20gmA Ret 0...   \n",
       "2         3                             ACGEL CL NANO Gel 15gm   \n",
       "3         4                                ACGEL NANO Gel 15gm   \n",
       "4         5                              Acleen 1% Lotion 25ml   \n",
       "...     ...                                                ...   \n",
       "9715   9716                                T Muce Ointment 5gm   \n",
       "9716   9717  Wokadine 10% Solution 100mlWokadine Solution 5...   \n",
       "9717   9718                               Wokadine M Onit 10gm   \n",
       "9718   9719                           Wound Fix Solution 100ml   \n",
       "9719   9720                              Wounsol Ointment 15gm   \n",
       "\n",
       "                                                   tags  \n",
       "0             [Mild, to, moderate, acne, (spots), Acne]  \n",
       "1     [A, RET, 0.025%, is, a, prescription, medicine...  \n",
       "2     [It, is, used, to, treat, acne, vulgaris, in, ...  \n",
       "3     [It, is, used, to, treat, acne, vulgaris, in, ...  \n",
       "4     [treat, the, most, severe, form, of, acne, (no...  \n",
       "...                                                 ...  \n",
       "9715                [used, for, treating, warts, Wound]  \n",
       "9716        [used, to, soften, the, skin, cells, Wound]  \n",
       "9717                          [used, for, scars, Wound]  \n",
       "9718                         [used, for, wounds, Wound]  \n",
       "9719  [used, to, treat, and, remove, raised, warts, ...  \n",
       "\n",
       "[9720 rows x 3 columns]"
      ]
     },
     "execution_count": 15,
     "metadata": {},
     "output_type": "execute_result"
    }
   ],
   "source": [
    "new_df"
   ]
  },
  {
   "cell_type": "code",
   "execution_count": 16,
   "metadata": {
    "execution": {
     "iopub.execute_input": "2022-05-26T15:28:40.536622Z",
     "iopub.status.busy": "2022-05-26T15:28:40.536242Z",
     "iopub.status.idle": "2022-05-26T15:28:40.555686Z",
     "shell.execute_reply": "2022-05-26T15:28:40.554737Z",
     "shell.execute_reply.started": "2022-05-26T15:28:40.536592Z"
    }
   },
   "outputs": [
    {
     "data": {
      "text/plain": [
       "0                      Mild to moderate acne (spots) Acne\n",
       "1       A RET 0.025% is a prescription medicine that i...\n",
       "2       It is used to treat acne vulgaris in people 12...\n",
       "3       It is used to treat acne vulgaris in people 12...\n",
       "4       treat the most severe form of acne (nodular ac...\n",
       "                              ...                        \n",
       "9715                        used for treating warts Wound\n",
       "9716                  used to soften the skin cells Wound\n",
       "9717                                 used for scars Wound\n",
       "9718                                used for wounds Wound\n",
       "9719    used to treat and remove raised warts (usually...\n",
       "Name: tags, Length: 9720, dtype: object"
      ]
     },
     "execution_count": 16,
     "metadata": {},
     "output_type": "execute_result"
    }
   ],
   "source": [
    "new_df['tags'].apply(lambda x:\" \".join(x))"
   ]
  },
  {
   "cell_type": "code",
   "execution_count": 17,
   "metadata": {
    "execution": {
     "iopub.execute_input": "2022-05-26T15:28:45.841708Z",
     "iopub.status.busy": "2022-05-26T15:28:45.841331Z",
     "iopub.status.idle": "2022-05-26T15:28:45.860869Z",
     "shell.execute_reply": "2022-05-26T15:28:45.859984Z",
     "shell.execute_reply.started": "2022-05-26T15:28:45.841677Z"
    }
   },
   "outputs": [
    {
     "data": {
      "text/html": [
       "<div>\n",
       "<style scoped>\n",
       "    .dataframe tbody tr th:only-of-type {\n",
       "        vertical-align: middle;\n",
       "    }\n",
       "\n",
       "    .dataframe tbody tr th {\n",
       "        vertical-align: top;\n",
       "    }\n",
       "\n",
       "    .dataframe thead th {\n",
       "        text-align: right;\n",
       "    }\n",
       "</style>\n",
       "<table border=\"1\" class=\"dataframe\">\n",
       "  <thead>\n",
       "    <tr style=\"text-align: right;\">\n",
       "      <th></th>\n",
       "      <th>index</th>\n",
       "      <th>Drug_Name</th>\n",
       "      <th>tags</th>\n",
       "    </tr>\n",
       "  </thead>\n",
       "  <tbody>\n",
       "    <tr>\n",
       "      <th>0</th>\n",
       "      <td>1</td>\n",
       "      <td>A CN Gel(Topical) 20gmA CN Soap 75gm</td>\n",
       "      <td>[Mild, to, moderate, acne, (spots), Acne]</td>\n",
       "    </tr>\n",
       "    <tr>\n",
       "      <th>1</th>\n",
       "      <td>2</td>\n",
       "      <td>A Ret 0.05% Gel 20gmA Ret 0.1% Gel 20gmA Ret 0...</td>\n",
       "      <td>[A, RET, 0.025%, is, a, prescription, medicine...</td>\n",
       "    </tr>\n",
       "    <tr>\n",
       "      <th>2</th>\n",
       "      <td>3</td>\n",
       "      <td>ACGEL CL NANO Gel 15gm</td>\n",
       "      <td>[It, is, used, to, treat, acne, vulgaris, in, ...</td>\n",
       "    </tr>\n",
       "    <tr>\n",
       "      <th>3</th>\n",
       "      <td>4</td>\n",
       "      <td>ACGEL NANO Gel 15gm</td>\n",
       "      <td>[It, is, used, to, treat, acne, vulgaris, in, ...</td>\n",
       "    </tr>\n",
       "    <tr>\n",
       "      <th>4</th>\n",
       "      <td>5</td>\n",
       "      <td>Acleen 1% Lotion 25ml</td>\n",
       "      <td>[treat, the, most, severe, form, of, acne, (no...</td>\n",
       "    </tr>\n",
       "    <tr>\n",
       "      <th>...</th>\n",
       "      <td>...</td>\n",
       "      <td>...</td>\n",
       "      <td>...</td>\n",
       "    </tr>\n",
       "    <tr>\n",
       "      <th>9715</th>\n",
       "      <td>9716</td>\n",
       "      <td>T Muce Ointment 5gm</td>\n",
       "      <td>[used, for, treating, warts, Wound]</td>\n",
       "    </tr>\n",
       "    <tr>\n",
       "      <th>9716</th>\n",
       "      <td>9717</td>\n",
       "      <td>Wokadine 10% Solution 100mlWokadine Solution 5...</td>\n",
       "      <td>[used, to, soften, the, skin, cells, Wound]</td>\n",
       "    </tr>\n",
       "    <tr>\n",
       "      <th>9717</th>\n",
       "      <td>9718</td>\n",
       "      <td>Wokadine M Onit 10gm</td>\n",
       "      <td>[used, for, scars, Wound]</td>\n",
       "    </tr>\n",
       "    <tr>\n",
       "      <th>9718</th>\n",
       "      <td>9719</td>\n",
       "      <td>Wound Fix Solution 100ml</td>\n",
       "      <td>[used, for, wounds, Wound]</td>\n",
       "    </tr>\n",
       "    <tr>\n",
       "      <th>9719</th>\n",
       "      <td>9720</td>\n",
       "      <td>Wounsol Ointment 15gm</td>\n",
       "      <td>[used, to, treat, and, remove, raised, warts, ...</td>\n",
       "    </tr>\n",
       "  </tbody>\n",
       "</table>\n",
       "<p>9720 rows × 3 columns</p>\n",
       "</div>"
      ],
      "text/plain": [
       "      index                                          Drug_Name  \\\n",
       "0         1               A CN Gel(Topical) 20gmA CN Soap 75gm   \n",
       "1         2  A Ret 0.05% Gel 20gmA Ret 0.1% Gel 20gmA Ret 0...   \n",
       "2         3                             ACGEL CL NANO Gel 15gm   \n",
       "3         4                                ACGEL NANO Gel 15gm   \n",
       "4         5                              Acleen 1% Lotion 25ml   \n",
       "...     ...                                                ...   \n",
       "9715   9716                                T Muce Ointment 5gm   \n",
       "9716   9717  Wokadine 10% Solution 100mlWokadine Solution 5...   \n",
       "9717   9718                               Wokadine M Onit 10gm   \n",
       "9718   9719                           Wound Fix Solution 100ml   \n",
       "9719   9720                              Wounsol Ointment 15gm   \n",
       "\n",
       "                                                   tags  \n",
       "0             [Mild, to, moderate, acne, (spots), Acne]  \n",
       "1     [A, RET, 0.025%, is, a, prescription, medicine...  \n",
       "2     [It, is, used, to, treat, acne, vulgaris, in, ...  \n",
       "3     [It, is, used, to, treat, acne, vulgaris, in, ...  \n",
       "4     [treat, the, most, severe, form, of, acne, (no...  \n",
       "...                                                 ...  \n",
       "9715                [used, for, treating, warts, Wound]  \n",
       "9716        [used, to, soften, the, skin, cells, Wound]  \n",
       "9717                          [used, for, scars, Wound]  \n",
       "9718                         [used, for, wounds, Wound]  \n",
       "9719  [used, to, treat, and, remove, raised, warts, ...  \n",
       "\n",
       "[9720 rows x 3 columns]"
      ]
     },
     "execution_count": 17,
     "metadata": {},
     "output_type": "execute_result"
    }
   ],
   "source": [
    "new_df"
   ]
  },
  {
   "cell_type": "code",
   "execution_count": 18,
   "metadata": {
    "execution": {
     "iopub.execute_input": "2022-05-26T15:28:53.401750Z",
     "iopub.status.busy": "2022-05-26T15:28:53.401240Z",
     "iopub.status.idle": "2022-05-26T15:28:53.416558Z",
     "shell.execute_reply": "2022-05-26T15:28:53.415509Z",
     "shell.execute_reply.started": "2022-05-26T15:28:53.401710Z"
    }
   },
   "outputs": [
    {
     "name": "stderr",
     "output_type": "stream",
     "text": [
      "C:\\Users\\satya\\AppData\\Local\\Temp\\ipykernel_4956\\3089450492.py:1: SettingWithCopyWarning: \n",
      "A value is trying to be set on a copy of a slice from a DataFrame.\n",
      "Try using .loc[row_indexer,col_indexer] = value instead\n",
      "\n",
      "See the caveats in the documentation: https://pandas.pydata.org/pandas-docs/stable/user_guide/indexing.html#returning-a-view-versus-a-copy\n",
      "  new_df['tags'] = new_df['tags'].apply(lambda x:\" \".join(x))\n"
     ]
    }
   ],
   "source": [
    "new_df['tags'] = new_df['tags'].apply(lambda x:\" \".join(x))"
   ]
  },
  {
   "cell_type": "code",
   "execution_count": 19,
   "metadata": {
    "execution": {
     "iopub.execute_input": "2022-05-26T15:28:59.343874Z",
     "iopub.status.busy": "2022-05-26T15:28:59.343330Z",
     "iopub.status.idle": "2022-05-26T15:28:59.357037Z",
     "shell.execute_reply": "2022-05-26T15:28:59.356307Z",
     "shell.execute_reply.started": "2022-05-26T15:28:59.343830Z"
    }
   },
   "outputs": [
    {
     "data": {
      "text/html": [
       "<div>\n",
       "<style scoped>\n",
       "    .dataframe tbody tr th:only-of-type {\n",
       "        vertical-align: middle;\n",
       "    }\n",
       "\n",
       "    .dataframe tbody tr th {\n",
       "        vertical-align: top;\n",
       "    }\n",
       "\n",
       "    .dataframe thead th {\n",
       "        text-align: right;\n",
       "    }\n",
       "</style>\n",
       "<table border=\"1\" class=\"dataframe\">\n",
       "  <thead>\n",
       "    <tr style=\"text-align: right;\">\n",
       "      <th></th>\n",
       "      <th>index</th>\n",
       "      <th>Drug_Name</th>\n",
       "      <th>tags</th>\n",
       "    </tr>\n",
       "  </thead>\n",
       "  <tbody>\n",
       "    <tr>\n",
       "      <th>0</th>\n",
       "      <td>1</td>\n",
       "      <td>A CN Gel(Topical) 20gmA CN Soap 75gm</td>\n",
       "      <td>Mild to moderate acne (spots) Acne</td>\n",
       "    </tr>\n",
       "    <tr>\n",
       "      <th>1</th>\n",
       "      <td>2</td>\n",
       "      <td>A Ret 0.05% Gel 20gmA Ret 0.1% Gel 20gmA Ret 0...</td>\n",
       "      <td>A RET 0.025% is a prescription medicine that i...</td>\n",
       "    </tr>\n",
       "    <tr>\n",
       "      <th>2</th>\n",
       "      <td>3</td>\n",
       "      <td>ACGEL CL NANO Gel 15gm</td>\n",
       "      <td>It is used to treat acne vulgaris in people 12...</td>\n",
       "    </tr>\n",
       "    <tr>\n",
       "      <th>3</th>\n",
       "      <td>4</td>\n",
       "      <td>ACGEL NANO Gel 15gm</td>\n",
       "      <td>It is used to treat acne vulgaris in people 12...</td>\n",
       "    </tr>\n",
       "    <tr>\n",
       "      <th>4</th>\n",
       "      <td>5</td>\n",
       "      <td>Acleen 1% Lotion 25ml</td>\n",
       "      <td>treat the most severe form of acne (nodular ac...</td>\n",
       "    </tr>\n",
       "    <tr>\n",
       "      <th>...</th>\n",
       "      <td>...</td>\n",
       "      <td>...</td>\n",
       "      <td>...</td>\n",
       "    </tr>\n",
       "    <tr>\n",
       "      <th>9715</th>\n",
       "      <td>9716</td>\n",
       "      <td>T Muce Ointment 5gm</td>\n",
       "      <td>used for treating warts Wound</td>\n",
       "    </tr>\n",
       "    <tr>\n",
       "      <th>9716</th>\n",
       "      <td>9717</td>\n",
       "      <td>Wokadine 10% Solution 100mlWokadine Solution 5...</td>\n",
       "      <td>used to soften the skin cells Wound</td>\n",
       "    </tr>\n",
       "    <tr>\n",
       "      <th>9717</th>\n",
       "      <td>9718</td>\n",
       "      <td>Wokadine M Onit 10gm</td>\n",
       "      <td>used for scars Wound</td>\n",
       "    </tr>\n",
       "    <tr>\n",
       "      <th>9718</th>\n",
       "      <td>9719</td>\n",
       "      <td>Wound Fix Solution 100ml</td>\n",
       "      <td>used for wounds Wound</td>\n",
       "    </tr>\n",
       "    <tr>\n",
       "      <th>9719</th>\n",
       "      <td>9720</td>\n",
       "      <td>Wounsol Ointment 15gm</td>\n",
       "      <td>used to treat and remove raised warts (usually...</td>\n",
       "    </tr>\n",
       "  </tbody>\n",
       "</table>\n",
       "<p>9720 rows × 3 columns</p>\n",
       "</div>"
      ],
      "text/plain": [
       "      index                                          Drug_Name  \\\n",
       "0         1               A CN Gel(Topical) 20gmA CN Soap 75gm   \n",
       "1         2  A Ret 0.05% Gel 20gmA Ret 0.1% Gel 20gmA Ret 0...   \n",
       "2         3                             ACGEL CL NANO Gel 15gm   \n",
       "3         4                                ACGEL NANO Gel 15gm   \n",
       "4         5                              Acleen 1% Lotion 25ml   \n",
       "...     ...                                                ...   \n",
       "9715   9716                                T Muce Ointment 5gm   \n",
       "9716   9717  Wokadine 10% Solution 100mlWokadine Solution 5...   \n",
       "9717   9718                               Wokadine M Onit 10gm   \n",
       "9718   9719                           Wound Fix Solution 100ml   \n",
       "9719   9720                              Wounsol Ointment 15gm   \n",
       "\n",
       "                                                   tags  \n",
       "0                    Mild to moderate acne (spots) Acne  \n",
       "1     A RET 0.025% is a prescription medicine that i...  \n",
       "2     It is used to treat acne vulgaris in people 12...  \n",
       "3     It is used to treat acne vulgaris in people 12...  \n",
       "4     treat the most severe form of acne (nodular ac...  \n",
       "...                                                 ...  \n",
       "9715                      used for treating warts Wound  \n",
       "9716                used to soften the skin cells Wound  \n",
       "9717                               used for scars Wound  \n",
       "9718                              used for wounds Wound  \n",
       "9719  used to treat and remove raised warts (usually...  \n",
       "\n",
       "[9720 rows x 3 columns]"
      ]
     },
     "execution_count": 19,
     "metadata": {},
     "output_type": "execute_result"
    }
   ],
   "source": [
    "new_df"
   ]
  },
  {
   "cell_type": "code",
   "execution_count": 20,
   "metadata": {
    "execution": {
     "iopub.execute_input": "2022-05-26T15:29:03.967503Z",
     "iopub.status.busy": "2022-05-26T15:29:03.967097Z",
     "iopub.status.idle": "2022-05-26T15:29:03.980230Z",
     "shell.execute_reply": "2022-05-26T15:29:03.979538Z",
     "shell.execute_reply.started": "2022-05-26T15:29:03.967459Z"
    }
   },
   "outputs": [
    {
     "name": "stderr",
     "output_type": "stream",
     "text": [
      "C:\\Users\\satya\\AppData\\Local\\Temp\\ipykernel_4956\\3214958533.py:1: SettingWithCopyWarning: \n",
      "A value is trying to be set on a copy of a slice from a DataFrame.\n",
      "Try using .loc[row_indexer,col_indexer] = value instead\n",
      "\n",
      "See the caveats in the documentation: https://pandas.pydata.org/pandas-docs/stable/user_guide/indexing.html#returning-a-view-versus-a-copy\n",
      "  new_df['tags'] = new_df['tags'].apply(lambda x:x.lower())\n"
     ]
    }
   ],
   "source": [
    "new_df['tags'] = new_df['tags'].apply(lambda x:x.lower())"
   ]
  },
  {
   "cell_type": "code",
   "execution_count": 21,
   "metadata": {
    "execution": {
     "iopub.execute_input": "2022-05-26T15:29:09.900261Z",
     "iopub.status.busy": "2022-05-26T15:29:09.899763Z",
     "iopub.status.idle": "2022-05-26T15:29:09.913513Z",
     "shell.execute_reply": "2022-05-26T15:29:09.912614Z",
     "shell.execute_reply.started": "2022-05-26T15:29:09.900231Z"
    }
   },
   "outputs": [
    {
     "data": {
      "text/html": [
       "<div>\n",
       "<style scoped>\n",
       "    .dataframe tbody tr th:only-of-type {\n",
       "        vertical-align: middle;\n",
       "    }\n",
       "\n",
       "    .dataframe tbody tr th {\n",
       "        vertical-align: top;\n",
       "    }\n",
       "\n",
       "    .dataframe thead th {\n",
       "        text-align: right;\n",
       "    }\n",
       "</style>\n",
       "<table border=\"1\" class=\"dataframe\">\n",
       "  <thead>\n",
       "    <tr style=\"text-align: right;\">\n",
       "      <th></th>\n",
       "      <th>index</th>\n",
       "      <th>Drug_Name</th>\n",
       "      <th>tags</th>\n",
       "    </tr>\n",
       "  </thead>\n",
       "  <tbody>\n",
       "    <tr>\n",
       "      <th>0</th>\n",
       "      <td>1</td>\n",
       "      <td>A CN Gel(Topical) 20gmA CN Soap 75gm</td>\n",
       "      <td>mild to moderate acne (spots) acne</td>\n",
       "    </tr>\n",
       "    <tr>\n",
       "      <th>1</th>\n",
       "      <td>2</td>\n",
       "      <td>A Ret 0.05% Gel 20gmA Ret 0.1% Gel 20gmA Ret 0...</td>\n",
       "      <td>a ret 0.025% is a prescription medicine that i...</td>\n",
       "    </tr>\n",
       "    <tr>\n",
       "      <th>2</th>\n",
       "      <td>3</td>\n",
       "      <td>ACGEL CL NANO Gel 15gm</td>\n",
       "      <td>it is used to treat acne vulgaris in people 12...</td>\n",
       "    </tr>\n",
       "    <tr>\n",
       "      <th>3</th>\n",
       "      <td>4</td>\n",
       "      <td>ACGEL NANO Gel 15gm</td>\n",
       "      <td>it is used to treat acne vulgaris in people 12...</td>\n",
       "    </tr>\n",
       "    <tr>\n",
       "      <th>4</th>\n",
       "      <td>5</td>\n",
       "      <td>Acleen 1% Lotion 25ml</td>\n",
       "      <td>treat the most severe form of acne (nodular ac...</td>\n",
       "    </tr>\n",
       "    <tr>\n",
       "      <th>...</th>\n",
       "      <td>...</td>\n",
       "      <td>...</td>\n",
       "      <td>...</td>\n",
       "    </tr>\n",
       "    <tr>\n",
       "      <th>9715</th>\n",
       "      <td>9716</td>\n",
       "      <td>T Muce Ointment 5gm</td>\n",
       "      <td>used for treating warts wound</td>\n",
       "    </tr>\n",
       "    <tr>\n",
       "      <th>9716</th>\n",
       "      <td>9717</td>\n",
       "      <td>Wokadine 10% Solution 100mlWokadine Solution 5...</td>\n",
       "      <td>used to soften the skin cells wound</td>\n",
       "    </tr>\n",
       "    <tr>\n",
       "      <th>9717</th>\n",
       "      <td>9718</td>\n",
       "      <td>Wokadine M Onit 10gm</td>\n",
       "      <td>used for scars wound</td>\n",
       "    </tr>\n",
       "    <tr>\n",
       "      <th>9718</th>\n",
       "      <td>9719</td>\n",
       "      <td>Wound Fix Solution 100ml</td>\n",
       "      <td>used for wounds wound</td>\n",
       "    </tr>\n",
       "    <tr>\n",
       "      <th>9719</th>\n",
       "      <td>9720</td>\n",
       "      <td>Wounsol Ointment 15gm</td>\n",
       "      <td>used to treat and remove raised warts (usually...</td>\n",
       "    </tr>\n",
       "  </tbody>\n",
       "</table>\n",
       "<p>9720 rows × 3 columns</p>\n",
       "</div>"
      ],
      "text/plain": [
       "      index                                          Drug_Name  \\\n",
       "0         1               A CN Gel(Topical) 20gmA CN Soap 75gm   \n",
       "1         2  A Ret 0.05% Gel 20gmA Ret 0.1% Gel 20gmA Ret 0...   \n",
       "2         3                             ACGEL CL NANO Gel 15gm   \n",
       "3         4                                ACGEL NANO Gel 15gm   \n",
       "4         5                              Acleen 1% Lotion 25ml   \n",
       "...     ...                                                ...   \n",
       "9715   9716                                T Muce Ointment 5gm   \n",
       "9716   9717  Wokadine 10% Solution 100mlWokadine Solution 5...   \n",
       "9717   9718                               Wokadine M Onit 10gm   \n",
       "9718   9719                           Wound Fix Solution 100ml   \n",
       "9719   9720                              Wounsol Ointment 15gm   \n",
       "\n",
       "                                                   tags  \n",
       "0                    mild to moderate acne (spots) acne  \n",
       "1     a ret 0.025% is a prescription medicine that i...  \n",
       "2     it is used to treat acne vulgaris in people 12...  \n",
       "3     it is used to treat acne vulgaris in people 12...  \n",
       "4     treat the most severe form of acne (nodular ac...  \n",
       "...                                                 ...  \n",
       "9715                      used for treating warts wound  \n",
       "9716                used to soften the skin cells wound  \n",
       "9717                               used for scars wound  \n",
       "9718                              used for wounds wound  \n",
       "9719  used to treat and remove raised warts (usually...  \n",
       "\n",
       "[9720 rows x 3 columns]"
      ]
     },
     "execution_count": 21,
     "metadata": {},
     "output_type": "execute_result"
    }
   ],
   "source": [
    "new_df"
   ]
  },
  {
   "cell_type": "code",
   "execution_count": 22,
   "metadata": {
    "execution": {
     "iopub.execute_input": "2022-05-26T15:29:15.034557Z",
     "iopub.status.busy": "2022-05-26T15:29:15.033480Z",
     "iopub.status.idle": "2022-05-26T15:29:32.260361Z",
     "shell.execute_reply": "2022-05-26T15:29:32.259461Z",
     "shell.execute_reply.started": "2022-05-26T15:29:15.034474Z"
    }
   },
   "outputs": [
    {
     "name": "stdout",
     "output_type": "stream",
     "text": [
      "Requirement already satisfied: nltk in c:\\users\\satya\\anaconda3\\envs\\tensorflow\\lib\\site-packages (3.7)\n",
      "Requirement already satisfied: click in c:\\users\\satya\\anaconda3\\envs\\tensorflow\\lib\\site-packages (from nltk) (8.0.4)\n",
      "Requirement already satisfied: regex>=2021.8.3 in c:\\users\\satya\\anaconda3\\envs\\tensorflow\\lib\\site-packages (from nltk) (2022.7.9)\n",
      "Requirement already satisfied: joblib in c:\\users\\satya\\anaconda3\\envs\\tensorflow\\lib\\site-packages (from nltk) (1.1.1)\n",
      "Requirement already satisfied: tqdm in c:\\users\\satya\\anaconda3\\envs\\tensorflow\\lib\\site-packages (from nltk) (4.65.0)\n",
      "Requirement already satisfied: colorama in c:\\users\\satya\\anaconda3\\envs\\tensorflow\\lib\\site-packages (from click->nltk) (0.4.6)\n"
     ]
    }
   ],
   "source": [
    "!pip install nltk"
   ]
  },
  {
   "cell_type": "code",
   "execution_count": 23,
   "metadata": {
    "execution": {
     "iopub.execute_input": "2022-05-26T15:29:32.262390Z",
     "iopub.status.busy": "2022-05-26T15:29:32.262070Z",
     "iopub.status.idle": "2022-05-26T15:29:33.396808Z",
     "shell.execute_reply": "2022-05-26T15:29:33.395776Z",
     "shell.execute_reply.started": "2022-05-26T15:29:32.262358Z"
    }
   },
   "outputs": [],
   "source": [
    "import nltk"
   ]
  },
  {
   "cell_type": "code",
   "execution_count": 24,
   "metadata": {
    "execution": {
     "iopub.execute_input": "2022-05-26T15:29:44.930999Z",
     "iopub.status.busy": "2022-05-26T15:29:44.930510Z",
     "iopub.status.idle": "2022-05-26T15:29:44.935856Z",
     "shell.execute_reply": "2022-05-26T15:29:44.934888Z",
     "shell.execute_reply.started": "2022-05-26T15:29:44.930950Z"
    }
   },
   "outputs": [],
   "source": [
    "from nltk.stem.porter import PorterStemmer\n",
    "ps = PorterStemmer()"
   ]
  },
  {
   "cell_type": "code",
   "execution_count": 25,
   "metadata": {
    "execution": {
     "iopub.execute_input": "2022-05-26T15:29:57.554659Z",
     "iopub.status.busy": "2022-05-26T15:29:57.554233Z",
     "iopub.status.idle": "2022-05-26T15:30:14.886756Z",
     "shell.execute_reply": "2022-05-26T15:30:14.885564Z",
     "shell.execute_reply.started": "2022-05-26T15:29:57.554624Z"
    }
   },
   "outputs": [
    {
     "name": "stdout",
     "output_type": "stream",
     "text": [
      "Requirement already satisfied: scikit-learn in c:\\users\\satya\\anaconda3\\envs\\tensorflow\\lib\\site-packages (1.3.1)\n",
      "Collecting scikit-learn\n",
      "  Downloading scikit_learn-1.3.2-cp310-cp310-win_amd64.whl (9.3 MB)\n",
      "     ---------------------------------------- 0.0/9.3 MB ? eta -:--:--\n",
      "     ---------------------------------------- 0.0/9.3 MB 1.3 MB/s eta 0:00:08\n",
      "     ---------------------------------------- 0.0/9.3 MB 487.6 kB/s eta 0:00:19\n",
      "      --------------------------------------- 0.1/9.3 MB 1.1 MB/s eta 0:00:09\n",
      "      --------------------------------------- 0.1/9.3 MB 1.1 MB/s eta 0:00:09\n",
      "     - -------------------------------------- 0.3/9.3 MB 1.2 MB/s eta 0:00:08\n",
      "     - -------------------------------------- 0.3/9.3 MB 1.2 MB/s eta 0:00:08\n",
      "     - -------------------------------------- 0.4/9.3 MB 1.4 MB/s eta 0:00:07\n",
      "     -- ------------------------------------- 0.6/9.3 MB 1.8 MB/s eta 0:00:05\n",
      "     -- ------------------------------------- 0.7/9.3 MB 1.8 MB/s eta 0:00:05\n",
      "     --- ------------------------------------ 0.8/9.3 MB 1.7 MB/s eta 0:00:05\n",
      "     ---- ----------------------------------- 1.0/9.3 MB 2.1 MB/s eta 0:00:04\n",
      "     ----- ---------------------------------- 1.2/9.3 MB 2.3 MB/s eta 0:00:04\n",
      "     ------ --------------------------------- 1.5/9.3 MB 2.6 MB/s eta 0:00:04\n",
      "     ------ --------------------------------- 1.6/9.3 MB 2.6 MB/s eta 0:00:04\n",
      "     -------- ------------------------------- 1.9/9.3 MB 2.9 MB/s eta 0:00:03\n",
      "     -------- ------------------------------- 1.9/9.3 MB 2.8 MB/s eta 0:00:03\n",
      "     -------- ------------------------------- 1.9/9.3 MB 2.8 MB/s eta 0:00:03\n",
      "     ---------- ----------------------------- 2.4/9.3 MB 3.0 MB/s eta 0:00:03\n",
      "     ---------- ----------------------------- 2.4/9.3 MB 3.0 MB/s eta 0:00:03\n",
      "     ----------- ---------------------------- 2.6/9.3 MB 2.9 MB/s eta 0:00:03\n",
      "     ------------ --------------------------- 2.8/9.3 MB 3.0 MB/s eta 0:00:03\n",
      "     ------------- -------------------------- 3.1/9.3 MB 3.1 MB/s eta 0:00:02\n",
      "     -------------- ------------------------- 3.4/9.3 MB 3.3 MB/s eta 0:00:02\n",
      "     --------------- ------------------------ 3.7/9.3 MB 3.5 MB/s eta 0:00:02\n",
      "     ----------------- ---------------------- 3.9/9.3 MB 3.6 MB/s eta 0:00:02\n",
      "     ----------------- ---------------------- 4.2/9.3 MB 3.6 MB/s eta 0:00:02\n",
      "     ------------------- -------------------- 4.5/9.3 MB 3.8 MB/s eta 0:00:02\n",
      "     -------------------- ------------------- 4.7/9.3 MB 3.8 MB/s eta 0:00:02\n",
      "     ---------------------- ----------------- 5.1/9.3 MB 4.0 MB/s eta 0:00:02\n",
      "     ----------------------- ---------------- 5.3/9.3 MB 4.0 MB/s eta 0:00:01\n",
      "     ------------------------- -------------- 5.8/9.3 MB 4.2 MB/s eta 0:00:01\n",
      "     -------------------------- ------------- 6.0/9.3 MB 4.2 MB/s eta 0:00:01\n",
      "     --------------------------- ------------ 6.3/9.3 MB 4.3 MB/s eta 0:00:01\n",
      "     ----------------------------- ---------- 6.8/9.3 MB 4.5 MB/s eta 0:00:01\n",
      "     ------------------------------ --------- 7.1/9.3 MB 4.6 MB/s eta 0:00:01\n",
      "     -------------------------------- ------- 7.6/9.3 MB 4.7 MB/s eta 0:00:01\n",
      "     ---------------------------------- ----- 7.9/9.3 MB 4.8 MB/s eta 0:00:01\n",
      "     ----------------------------------- ---- 8.3/9.3 MB 4.9 MB/s eta 0:00:01\n",
      "     ------------------------------------- -- 8.7/9.3 MB 5.1 MB/s eta 0:00:01\n",
      "     ---------------------------------------  9.2/9.3 MB 5.2 MB/s eta 0:00:01\n",
      "     ---------------------------------------  9.2/9.3 MB 5.2 MB/s eta 0:00:01\n",
      "     ---------------------------------------- 9.3/9.3 MB 5.1 MB/s eta 0:00:00\n",
      "Requirement already satisfied: scipy in c:\\users\\satya\\anaconda3\\envs\\tensorflow\\lib\\site-packages (1.10.1)\n",
      "Collecting scipy\n",
      "  Downloading scipy-1.11.3-cp310-cp310-win_amd64.whl (44.1 MB)\n",
      "     ---------------------------------------- 0.0/44.1 MB ? eta -:--:--\n",
      "     ---------------------------------------- 0.4/44.1 MB 13.9 MB/s eta 0:00:04\n",
      "      --------------------------------------- 0.8/44.1 MB 12.1 MB/s eta 0:00:04\n",
      "      --------------------------------------- 1.0/44.1 MB 9.4 MB/s eta 0:00:05\n",
      "     - -------------------------------------- 1.6/44.1 MB 10.2 MB/s eta 0:00:05\n",
      "     - -------------------------------------- 1.8/44.1 MB 9.3 MB/s eta 0:00:05\n",
      "     - -------------------------------------- 1.8/44.1 MB 7.2 MB/s eta 0:00:06\n",
      "     -- ------------------------------------- 2.7/44.1 MB 9.5 MB/s eta 0:00:05\n",
      "     -- ------------------------------------- 2.8/44.1 MB 8.5 MB/s eta 0:00:05\n",
      "     -- ------------------------------------- 3.2/44.1 MB 8.5 MB/s eta 0:00:05\n",
      "     -- ------------------------------------- 3.2/44.1 MB 8.6 MB/s eta 0:00:05\n",
      "     --- ------------------------------------ 4.1/44.1 MB 8.6 MB/s eta 0:00:05\n",
      "     --- ------------------------------------ 4.2/44.1 MB 8.4 MB/s eta 0:00:05\n",
      "     ---- ----------------------------------- 4.6/44.1 MB 8.3 MB/s eta 0:00:05\n",
      "     ---- ----------------------------------- 5.2/44.1 MB 8.8 MB/s eta 0:00:05\n",
      "     ---- ----------------------------------- 5.4/44.1 MB 8.4 MB/s eta 0:00:05\n",
      "     ----- ---------------------------------- 6.2/44.1 MB 9.3 MB/s eta 0:00:05\n",
      "     ------ --------------------------------- 6.8/44.1 MB 9.2 MB/s eta 0:00:05\n",
      "     ------ --------------------------------- 7.6/44.1 MB 9.9 MB/s eta 0:00:04\n",
      "     ------- -------------------------------- 7.9/44.1 MB 9.7 MB/s eta 0:00:04\n",
      "     ------- -------------------------------- 8.4/44.1 MB 9.7 MB/s eta 0:00:04\n",
      "     -------- ------------------------------- 9.1/44.1 MB 10.2 MB/s eta 0:00:04\n",
      "     -------- ------------------------------- 9.5/44.1 MB 10.1 MB/s eta 0:00:04\n",
      "     --------- ----------------------------- 10.3/44.1 MB 10.6 MB/s eta 0:00:04\n",
      "     --------- ----------------------------- 11.1/44.1 MB 10.9 MB/s eta 0:00:04\n",
      "     --------- ----------------------------- 11.2/44.1 MB 10.6 MB/s eta 0:00:04\n",
      "     ---------- ---------------------------- 12.2/44.1 MB 11.9 MB/s eta 0:00:03\n",
      "     ---------- ---------------------------- 12.2/44.1 MB 11.1 MB/s eta 0:00:03\n",
      "     ----------- --------------------------- 12.5/44.1 MB 11.3 MB/s eta 0:00:03\n",
      "     ----------- --------------------------- 12.5/44.1 MB 11.3 MB/s eta 0:00:03\n",
      "     ----------- --------------------------- 13.4/44.1 MB 10.9 MB/s eta 0:00:03\n",
      "     ------------ -------------------------- 13.9/44.1 MB 11.7 MB/s eta 0:00:03\n",
      "     ------------ -------------------------- 14.2/44.1 MB 10.9 MB/s eta 0:00:03\n",
      "     ------------ -------------------------- 14.6/44.1 MB 11.3 MB/s eta 0:00:03\n",
      "     ------------- ------------------------- 14.8/44.1 MB 11.3 MB/s eta 0:00:03\n",
      "     ------------- ------------------------- 15.4/44.1 MB 10.9 MB/s eta 0:00:03\n",
      "     -------------- ------------------------ 16.3/44.1 MB 11.5 MB/s eta 0:00:03\n",
      "     -------------- ------------------------ 16.7/44.1 MB 11.3 MB/s eta 0:00:03\n",
      "     --------------- ----------------------- 17.7/44.1 MB 11.7 MB/s eta 0:00:03\n",
      "     ---------------- ---------------------- 18.7/44.1 MB 12.6 MB/s eta 0:00:03\n",
      "     ----------------- --------------------- 19.9/44.1 MB 13.1 MB/s eta 0:00:02\n",
      "     ------------------ -------------------- 20.5/44.1 MB 13.4 MB/s eta 0:00:02\n",
      "     ------------------- ------------------- 21.7/44.1 MB 14.2 MB/s eta 0:00:02\n",
      "     ------------------- ------------------- 22.4/44.1 MB 14.9 MB/s eta 0:00:02\n",
      "     -------------------- ------------------ 23.5/44.1 MB 17.2 MB/s eta 0:00:02\n",
      "     --------------------- ----------------- 24.6/44.1 MB 18.7 MB/s eta 0:00:02\n",
      "     ---------------------- ---------------- 25.5/44.1 MB 21.8 MB/s eta 0:00:01\n",
      "     ----------------------- --------------- 27.0/44.1 MB 24.2 MB/s eta 0:00:01\n",
      "     ------------------------ -------------- 28.2/44.1 MB 24.2 MB/s eta 0:00:01\n",
      "     -------------------------- ------------ 29.5/44.1 MB 24.2 MB/s eta 0:00:01\n",
      "     -------------------------- ------------ 30.3/44.1 MB 24.3 MB/s eta 0:00:01\n",
      "     --------------------------- ----------- 31.1/44.1 MB 24.2 MB/s eta 0:00:01\n",
      "     --------------------------- ----------- 31.3/44.1 MB 23.4 MB/s eta 0:00:01\n",
      "     --------------------------- ----------- 31.5/44.1 MB 20.5 MB/s eta 0:00:01\n",
      "     ----------------------------- --------- 33.3/44.1 MB 21.8 MB/s eta 0:00:01\n",
      "     ------------------------------ -------- 34.2/44.1 MB 21.8 MB/s eta 0:00:01\n",
      "     ------------------------------ -------- 34.2/44.1 MB 21.8 MB/s eta 0:00:01\n",
      "     ------------------------------ -------- 34.2/44.1 MB 21.8 MB/s eta 0:00:01\n",
      "     ------------------------------- ------- 36.2/44.1 MB 19.3 MB/s eta 0:00:01\n",
      "     -------------------------------- ------ 36.8/44.1 MB 18.2 MB/s eta 0:00:01\n",
      "     -------------------------------- ------ 37.2/44.1 MB 17.7 MB/s eta 0:00:01\n",
      "     --------------------------------- ----- 37.4/44.1 MB 17.2 MB/s eta 0:00:01\n",
      "     --------------------------------- ----- 37.4/44.1 MB 17.2 MB/s eta 0:00:01\n",
      "     --------------------------------- ----- 37.4/44.1 MB 17.2 MB/s eta 0:00:01\n",
      "     --------------------------------- ----- 37.4/44.1 MB 17.2 MB/s eta 0:00:01\n",
      "     --------------------------------- ----- 37.4/44.1 MB 17.2 MB/s eta 0:00:01\n",
      "     --------------------------------- ----- 38.3/44.1 MB 12.4 MB/s eta 0:00:01\n",
      "     ---------------------------------- ---- 38.5/44.1 MB 12.6 MB/s eta 0:00:01\n",
      "     ---------------------------------- ---- 38.8/44.1 MB 11.5 MB/s eta 0:00:01\n",
      "     ---------------------------------- ---- 38.9/44.1 MB 11.3 MB/s eta 0:00:01\n",
      "     ---------------------------------- ---- 39.3/44.1 MB 10.9 MB/s eta 0:00:01\n",
      "     ----------------------------------- --- 40.2/44.1 MB 10.7 MB/s eta 0:00:01\n",
      "     ----------------------------------- --- 40.5/44.1 MB 10.7 MB/s eta 0:00:01\n",
      "     ----------------------------------- --- 40.7/44.1 MB 10.4 MB/s eta 0:00:01\n",
      "     ------------------------------------ -- 40.9/44.1 MB 10.2 MB/s eta 0:00:01\n",
      "     ------------------------------------ -- 41.7/44.1 MB 10.6 MB/s eta 0:00:01\n",
      "     ------------------------------------- - 42.1/44.1 MB 10.7 MB/s eta 0:00:01\n",
      "     ------------------------------------- - 42.1/44.1 MB 10.7 MB/s eta 0:00:01\n",
      "     -------------------------------------- - 42.3/44.1 MB 9.6 MB/s eta 0:00:01\n",
      "     ---------------------------------------  43.1/44.1 MB 9.2 MB/s eta 0:00:01\n",
      "     ---------------------------------------  43.7/44.1 MB 9.4 MB/s eta 0:00:01\n",
      "     ---------------------------------------  44.1/44.1 MB 9.1 MB/s eta 0:00:01\n",
      "     ---------------------------------------  44.1/44.1 MB 9.1 MB/s eta 0:00:01\n",
      "     ---------------------------------------  44.1/44.1 MB 9.1 MB/s eta 0:00:01\n",
      "     ---------------------------------------- 44.1/44.1 MB 8.2 MB/s eta 0:00:00\n",
      "Requirement already satisfied: matplotlib in c:\\users\\satya\\appdata\\roaming\\python\\python310\\site-packages (3.6.0)\n",
      "Collecting matplotlib\n",
      "  Downloading matplotlib-3.8.1-cp310-cp310-win_amd64.whl (7.6 MB)\n",
      "     ---------------------------------------- 0.0/7.6 MB ? eta -:--:--\n",
      "     ---- ----------------------------------- 0.8/7.6 MB 25.0 MB/s eta 0:00:01\n",
      "     ------ --------------------------------- 1.2/7.6 MB 25.9 MB/s eta 0:00:01\n",
      "     ------- -------------------------------- 1.4/7.6 MB 12.6 MB/s eta 0:00:01\n",
      "     ---------- ----------------------------- 2.0/7.6 MB 12.9 MB/s eta 0:00:01\n",
      "     ------------- -------------------------- 2.7/7.6 MB 13.0 MB/s eta 0:00:01\n",
      "     ------------------ --------------------- 3.6/7.6 MB 14.3 MB/s eta 0:00:01\n",
      "     -------------------- ------------------- 3.9/7.6 MB 13.9 MB/s eta 0:00:01\n",
      "     ----------------------- ---------------- 4.5/7.6 MB 13.8 MB/s eta 0:00:01\n",
      "     --------------------------- ------------ 5.2/7.6 MB 13.8 MB/s eta 0:00:01\n",
      "     ----------------------------- ---------- 5.6/7.6 MB 13.8 MB/s eta 0:00:01\n",
      "     ----------------------------- ---------- 5.6/7.6 MB 13.8 MB/s eta 0:00:01\n",
      "     ----------------------------- ---------- 5.6/7.6 MB 13.8 MB/s eta 0:00:01\n",
      "     ----------------------------- ---------- 5.6/7.6 MB 13.8 MB/s eta 0:00:01\n",
      "     ------------------------------ --------- 5.7/7.6 MB 9.4 MB/s eta 0:00:01\n",
      "     ------------------------------------ --- 6.9/7.6 MB 10.7 MB/s eta 0:00:01\n",
      "     ------------------------------------ --- 6.9/7.6 MB 10.7 MB/s eta 0:00:01\n",
      "     ------------------------------------- -- 7.2/7.6 MB 9.5 MB/s eta 0:00:01\n",
      "     ---------------------------------------  7.5/7.6 MB 9.6 MB/s eta 0:00:01\n",
      "     ---------------------------------------  7.6/7.6 MB 9.6 MB/s eta 0:00:01\n",
      "     ---------------------------------------- 7.6/7.6 MB 9.2 MB/s eta 0:00:00\n",
      "Requirement already satisfied: numpy<2.0,>=1.17.3 in c:\\users\\satya\\appdata\\roaming\\python\\python310\\site-packages (from scikit-learn) (1.23.3)\n",
      "Requirement already satisfied: threadpoolctl>=2.0.0 in c:\\users\\satya\\anaconda3\\envs\\tensorflow\\lib\\site-packages (from scikit-learn) (3.2.0)\n",
      "Requirement already satisfied: joblib>=1.1.1 in c:\\users\\satya\\anaconda3\\envs\\tensorflow\\lib\\site-packages (from scikit-learn) (1.1.1)\n",
      "Requirement already satisfied: pillow>=8 in c:\\users\\satya\\appdata\\roaming\\python\\python310\\site-packages (from matplotlib) (9.2.0)\n",
      "Requirement already satisfied: contourpy>=1.0.1 in c:\\users\\satya\\appdata\\roaming\\python\\python310\\site-packages (from matplotlib) (1.0.5)\n",
      "Requirement already satisfied: python-dateutil>=2.7 in c:\\users\\satya\\appdata\\roaming\\python\\python310\\site-packages (from matplotlib) (2.8.2)\n",
      "Requirement already satisfied: kiwisolver>=1.3.1 in c:\\users\\satya\\appdata\\roaming\\python\\python310\\site-packages (from matplotlib) (1.4.4)\n",
      "Requirement already satisfied: fonttools>=4.22.0 in c:\\users\\satya\\appdata\\roaming\\python\\python310\\site-packages (from matplotlib) (4.37.4)\n",
      "Requirement already satisfied: pyparsing>=2.3.1 in c:\\users\\satya\\appdata\\roaming\\python\\python310\\site-packages (from matplotlib) (3.0.9)\n",
      "Requirement already satisfied: cycler>=0.10 in c:\\users\\satya\\appdata\\roaming\\python\\python310\\site-packages (from matplotlib) (0.11.0)\n",
      "Requirement already satisfied: packaging>=20.0 in c:\\users\\satya\\anaconda3\\envs\\tensorflow\\lib\\site-packages (from matplotlib) (23.1)\n",
      "Requirement already satisfied: six>=1.5 in c:\\users\\satya\\appdata\\roaming\\python\\python310\\site-packages (from python-dateutil>=2.7->matplotlib) (1.16.0)\n",
      "Installing collected packages: scipy, scikit-learn, matplotlib\n",
      "  Attempting uninstall: scipy\n",
      "    Found existing installation: scipy 1.10.1\n",
      "    Uninstalling scipy-1.10.1:\n",
      "      Successfully uninstalled scipy-1.10.1\n"
     ]
    },
    {
     "name": "stderr",
     "output_type": "stream",
     "text": [
      "ERROR: Could not install packages due to an OSError: [WinError 5] Access is denied: 'C:\\\\Users\\\\satya\\\\anaconda3\\\\envs\\\\tensorflow\\\\Lib\\\\site-packages\\\\~cipy\\\\cluster\\\\_hierarchy.cp310-win_amd64.pyd'\n",
      "Consider using the `--user` option or check the permissions.\n",
      "\n"
     ]
    }
   ],
   "source": [
    "!pip install -U scikit-learn scipy matplotlib"
   ]
  },
  {
   "cell_type": "code",
   "execution_count": 26,
   "metadata": {
    "execution": {
     "iopub.execute_input": "2022-05-26T15:30:19.262947Z",
     "iopub.status.busy": "2022-05-26T15:30:19.262540Z",
     "iopub.status.idle": "2022-05-26T15:30:19.267598Z",
     "shell.execute_reply": "2022-05-26T15:30:19.266709Z",
     "shell.execute_reply.started": "2022-05-26T15:30:19.262907Z"
    }
   },
   "outputs": [],
   "source": [
    "from sklearn.feature_extraction.text import CountVectorizer\n",
    "cv = CountVectorizer(stop_words='english',max_features=5000)"
   ]
  },
  {
   "cell_type": "code",
   "execution_count": 27,
   "metadata": {
    "execution": {
     "iopub.execute_input": "2022-05-26T15:30:34.110883Z",
     "iopub.status.busy": "2022-05-26T15:30:34.110440Z",
     "iopub.status.idle": "2022-05-26T15:30:34.115964Z",
     "shell.execute_reply": "2022-05-26T15:30:34.115054Z",
     "shell.execute_reply.started": "2022-05-26T15:30:34.110851Z"
    }
   },
   "outputs": [],
   "source": [
    "def stem(text):\n",
    "  y = []\n",
    "\n",
    "  for i in text.split():\n",
    "    y.append(ps.stem(i))\n",
    "\n",
    "  return \" \".join(y)  "
   ]
  },
  {
   "cell_type": "code",
   "execution_count": 28,
   "metadata": {
    "execution": {
     "iopub.execute_input": "2022-05-26T15:30:40.638132Z",
     "iopub.status.busy": "2022-05-26T15:30:40.637709Z",
     "iopub.status.idle": "2022-05-26T15:30:43.759883Z",
     "shell.execute_reply": "2022-05-26T15:30:43.758904Z",
     "shell.execute_reply.started": "2022-05-26T15:30:40.638098Z"
    }
   },
   "outputs": [
    {
     "name": "stderr",
     "output_type": "stream",
     "text": [
      "C:\\Users\\satya\\AppData\\Local\\Temp\\ipykernel_4956\\3213734980.py:1: SettingWithCopyWarning: \n",
      "A value is trying to be set on a copy of a slice from a DataFrame.\n",
      "Try using .loc[row_indexer,col_indexer] = value instead\n",
      "\n",
      "See the caveats in the documentation: https://pandas.pydata.org/pandas-docs/stable/user_guide/indexing.html#returning-a-view-versus-a-copy\n",
      "  new_df['tags'] = new_df['tags'].apply(stem)\n"
     ]
    }
   ],
   "source": [
    "new_df['tags'] = new_df['tags'].apply(stem)"
   ]
  },
  {
   "cell_type": "code",
   "execution_count": 29,
   "metadata": {
    "execution": {
     "iopub.execute_input": "2022-05-26T15:30:47.868994Z",
     "iopub.status.busy": "2022-05-26T15:30:47.868441Z",
     "iopub.status.idle": "2022-05-26T15:30:48.096978Z",
     "shell.execute_reply": "2022-05-26T15:30:48.096104Z",
     "shell.execute_reply.started": "2022-05-26T15:30:47.868951Z"
    }
   },
   "outputs": [
    {
     "data": {
      "text/plain": [
       "(9720, 81)"
      ]
     },
     "execution_count": 29,
     "metadata": {},
     "output_type": "execute_result"
    }
   ],
   "source": [
    "cv.fit_transform(new_df['tags']).toarray().shape"
   ]
  },
  {
   "cell_type": "code",
   "execution_count": 32,
   "metadata": {
    "execution": {
     "iopub.execute_input": "2022-05-26T15:30:54.495313Z",
     "iopub.status.busy": "2022-05-26T15:30:54.494898Z",
     "iopub.status.idle": "2022-05-26T15:30:54.713078Z",
     "shell.execute_reply": "2022-05-26T15:30:54.712369Z",
     "shell.execute_reply.started": "2022-05-26T15:30:54.495280Z"
    }
   },
   "outputs": [],
   "source": [
    "vectors = cv.fit_transform(new_df['tags']).toarray()"
   ]
  },
  {
   "cell_type": "code",
   "execution_count": 32,
   "metadata": {
    "execution": {
     "iopub.execute_input": "2022-05-26T15:31:06.364175Z",
     "iopub.status.busy": "2022-05-26T15:31:06.363737Z",
     "iopub.status.idle": "2022-05-26T15:31:06.368475Z",
     "shell.execute_reply": "2022-05-26T15:31:06.367582Z",
     "shell.execute_reply.started": "2022-05-26T15:31:06.364142Z"
    }
   },
   "outputs": [],
   "source": [
    "from sklearn.metrics.pairwise import cosine_similarity"
   ]
  },
  {
   "cell_type": "code",
   "execution_count": 33,
   "metadata": {
    "execution": {
     "iopub.execute_input": "2022-05-26T15:31:12.307965Z",
     "iopub.status.busy": "2022-05-26T15:31:12.307555Z",
     "iopub.status.idle": "2022-05-26T15:31:13.947035Z",
     "shell.execute_reply": "2022-05-26T15:31:13.946057Z",
     "shell.execute_reply.started": "2022-05-26T15:31:12.307931Z"
    }
   },
   "outputs": [
    {
     "data": {
      "text/plain": [
       "array([[1.        , 0.25197632, 0.43643578, ..., 0.        , 0.        ,\n",
       "        0.        ],\n",
       "       [0.25197632, 1.        , 0.25660012, ..., 0.19245009, 0.1490712 ,\n",
       "        0.0860663 ],\n",
       "       [0.43643578, 0.25660012, 1.        , ..., 0.11111111, 0.0860663 ,\n",
       "        0.0993808 ],\n",
       "       ...,\n",
       "       [0.        , 0.19245009, 0.11111111, ..., 1.        , 0.77459667,\n",
       "        0.2981424 ],\n",
       "       [0.        , 0.1490712 , 0.0860663 , ..., 0.77459667, 1.        ,\n",
       "        0.34641016],\n",
       "       [0.        , 0.0860663 , 0.0993808 , ..., 0.2981424 , 0.34641016,\n",
       "        1.        ]])"
      ]
     },
     "execution_count": 33,
     "metadata": {},
     "output_type": "execute_result"
    }
   ],
   "source": [
    "cosine_similarity(vectors)"
   ]
  },
  {
   "cell_type": "code",
   "execution_count": 34,
   "metadata": {
    "execution": {
     "iopub.execute_input": "2022-05-26T15:31:20.837817Z",
     "iopub.status.busy": "2022-05-26T15:31:20.837383Z",
     "iopub.status.idle": "2022-05-26T15:31:22.665373Z",
     "shell.execute_reply": "2022-05-26T15:31:22.663586Z",
     "shell.execute_reply.started": "2022-05-26T15:31:20.837784Z"
    }
   },
   "outputs": [],
   "source": [
    "similarity = cosine_similarity(vectors)"
   ]
  },
  {
   "cell_type": "code",
   "execution_count": 35,
   "metadata": {
    "execution": {
     "iopub.execute_input": "2022-05-26T15:31:25.762261Z",
     "iopub.status.busy": "2022-05-26T15:31:25.761176Z",
     "iopub.status.idle": "2022-05-26T15:31:25.771667Z",
     "shell.execute_reply": "2022-05-26T15:31:25.770795Z",
     "shell.execute_reply.started": "2022-05-26T15:31:25.762222Z"
    }
   },
   "outputs": [
    {
     "data": {
      "text/plain": [
       "array([0.25197632, 1.        , 0.25660012, ..., 0.19245009, 0.1490712 ,\n",
       "       0.0860663 ])"
      ]
     },
     "execution_count": 35,
     "metadata": {},
     "output_type": "execute_result"
    }
   ],
   "source": [
    "similarity[1]"
   ]
  },
  {
   "cell_type": "code",
   "execution_count": 36,
   "metadata": {
    "execution": {
     "iopub.execute_input": "2022-05-26T15:31:40.159068Z",
     "iopub.status.busy": "2022-05-26T15:31:40.158323Z",
     "iopub.status.idle": "2022-05-26T15:31:40.166757Z",
     "shell.execute_reply": "2022-05-26T15:31:40.165868Z",
     "shell.execute_reply.started": "2022-05-26T15:31:40.159020Z"
    }
   },
   "outputs": [],
   "source": [
    "def recommend(medicine):\n",
    "    medicine_index = new_df[new_df['Drug_Name'] == medicine].index[0]\n",
    "    distances = similarity[medicine_index]\n",
    "    medicines_list = sorted(list(enumerate(distances)),reverse=True,key=lambda x:x[1])[1:6]\n",
    "    \n",
    "    for i in medicines_list:\n",
    "        print(new_df.iloc[i[0]].Drug_Name)\n",
    "    "
   ]
  },
  {
   "cell_type": "code",
   "execution_count": 37,
   "metadata": {
    "execution": {
     "iopub.execute_input": "2022-05-26T15:31:57.566701Z",
     "iopub.status.busy": "2022-05-26T15:31:57.565934Z",
     "iopub.status.idle": "2022-05-26T15:31:57.589837Z",
     "shell.execute_reply": "2022-05-26T15:31:57.588991Z",
     "shell.execute_reply.started": "2022-05-26T15:31:57.566659Z"
    }
   },
   "outputs": [
    {
     "name": "stdout",
     "output_type": "stream",
     "text": [
      "Oxypamol D Tablet 10'S\n",
      "Pacimol MF Tablet 10'S\n",
      "Painil Plus 100/500mg Tablet 10'S\n",
      "Pamagin Plus Gel 30gm\n",
      "Paracetamol 125mg Syrup 60mlParacetamol 500mg Tablet 10'S\n"
     ]
    }
   ],
   "source": [
    "recommend(\"Paracetamol 125mg Syrup 60mlParacetamol 500mg Tablet 10'S\")"
   ]
  },
  {
   "cell_type": "code",
   "execution_count": 38,
   "metadata": {
    "execution": {
     "iopub.execute_input": "2022-05-26T15:32:35.447060Z",
     "iopub.status.busy": "2022-05-26T15:32:35.446511Z",
     "iopub.status.idle": "2022-05-26T15:32:35.451544Z",
     "shell.execute_reply": "2022-05-26T15:32:35.450612Z",
     "shell.execute_reply.started": "2022-05-26T15:32:35.447016Z"
    }
   },
   "outputs": [],
   "source": [
    "import pickle"
   ]
  },
  {
   "cell_type": "code",
   "execution_count": 39,
   "metadata": {
    "execution": {
     "iopub.execute_input": "2022-05-26T15:32:53.662097Z",
     "iopub.status.busy": "2022-05-26T15:32:53.661648Z",
     "iopub.status.idle": "2022-05-26T15:32:56.474199Z",
     "shell.execute_reply": "2022-05-26T15:32:56.473238Z",
     "shell.execute_reply.started": "2022-05-26T15:32:53.662065Z"
    }
   },
   "outputs": [],
   "source": [
    "pickle.dump(new_df.to_dict(),open('medicine_dict.pkl','wb'))\n",
    "pickle.dump(similarity,open('similarity.pkl','wb'))"
   ]
  }
 ],
 "metadata": {
  "kernelspec": {
   "display_name": "Python 3 (ipykernel)",
   "language": "python",
   "name": "python3"
  },
  "language_info": {
   "codemirror_mode": {
    "name": "ipython",
    "version": 3
   },
   "file_extension": ".py",
   "mimetype": "text/x-python",
   "name": "python",
   "nbconvert_exporter": "python",
   "pygments_lexer": "ipython3",
   "version": "3.10.11"
  }
 },
 "nbformat": 4,
 "nbformat_minor": 4
}
